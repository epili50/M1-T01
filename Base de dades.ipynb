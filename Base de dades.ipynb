{
 "cells": [
  {
   "cell_type": "markdown",
   "id": "f017e329",
   "metadata": {},
   "source": [
    "# M1 T01\n",
    "\n"
   ]
  },
  {
   "cell_type": "markdown",
   "id": "6d83b986",
   "metadata": {},
   "source": [
    "## Exercici 1\n",
    "A partir dels documents adjunts (estructura i dades), crea una base de dades amb MySQL. Mostra les característiques principals de l'esquema creat i explica les diferents taules i variables que hi ha."
   ]
  },
  {
   "cell_type": "markdown",
   "id": "d76d89eb",
   "metadata": {},
   "source": [
    "<img src=\"EsquemaDef.png\">"
   ]
  },
  {
   "cell_type": "markdown",
   "id": "34e295bb",
   "metadata": {},
   "source": [
    "La base de datos movies cuenta con diferrentes tablas que tienen contenidos vicnulados a películas. \n",
    "En primer lugar la tabla de películas (\"tb_movie\") enumera 16 films junto a sus características principales. Esta tabla está relacionada con la tabla de género (que básicamente sólo enumera los diferentes géneros) en una relación de 1:n, ya que cada película solo tiene un género (según este registro, en otros se les puede atribuir más de uno), pero cada género se puede repetir en varias películas.\n",
    "La tabla de personas (\"tb_person\") da datos sobre 52 individuos vinculados al cine, con atributos de nombre, fecha de nacimiento y de muerte, y sobre el padre/madre de cada persona, si es que la misma está dentro de la lista. En ese caso se lo referencia con el person_id de la misma, creando una auto relación en la tabla de 1:n (cada individuo tendrá un solo padre o madre, porque no se da el caso de poder poner ambos, pero a su vez la persona puede ser padre/madre de muchos a la vez).\n",
    "Luego existe una tabla con los diferentes roles de la industria cinematográfica.\n",
    "Finalmente, hay una [tabla intermedia](https://pro.arcgis.com/es/pro-app/latest/help/data/relationships/populating-an-attributed-relationship-class-table-.htm#:~:text=La%20tabla%20intermedia%20contiene%20campos,a%20un%20objeto%20de%20destino.) que tiene una [relación de identificación](https://www.geeksforgeeks.org/difference-between-identifying-and-non-identifying-relationships/) de 1:n con las tablas de personas, de películas y de roles, y que a su vez aporta una columna que indica si cada registro (donde se especifica, película, persona y rol de esa persona en esa película) obtuvo un premio Oscar o no.\n",
    "Además, todas las tablas tienen una columna para indicar quien creó el registro, en qué fecha y la fecha en que se modifica el mismo."
   ]
  },
  {
   "cell_type": "markdown",
   "id": "6cca10d6",
   "metadata": {},
   "source": [
    "## Exercici 2\n",
    "Realitza la següent consulta sobre la base de dades acabada de crear: \n",
    "\n",
    "Has d'obtenir el nom, el país i la data de naixement d'aquelles persones per les quals no consti una data de mort i ordenar les dades de la persona més vella a la persona més jove."
   ]
  },
  {
   "cell_type": "markdown",
   "id": "3f64660c",
   "metadata": {},
   "source": [
    "<img src=\"Exc2.png\">"
   ]
  },
  {
   "cell_type": "markdown",
   "id": "bda666b1",
   "metadata": {},
   "source": [
    "## Exercici 3\n",
    "Realitza la següent consulta sobre la base de dades acabada de crear: \n",
    "\n",
    "Has d'obtenir el nom del gènere i el nombre total de pel·lícules d'aquest gènere i ordenar-ho per ordre descendent de nombre total de pel·lícules."
   ]
  },
  {
   "cell_type": "markdown",
   "id": "731f2c8a",
   "metadata": {},
   "source": [
    "<img src=\"Exc3.png\">"
   ]
  },
  {
   "cell_type": "markdown",
   "id": "953172ca",
   "metadata": {},
   "source": [
    "## Exercici 4\n",
    "\n",
    "Realitza la següent consulta sobre la base de dades acabada de crear: \n",
    "\n",
    "Has d'obtenir, per a cada persona, el seu nom i el nombre màxim de rols diferents que ha tingut en una mateixa pel·lícula. \n",
    "\n",
    "Posteriorment, mostra únicament aquelles persones que hagin assumit més d'un rol en una mateixa pel·lícula."
   ]
  },
  {
   "cell_type": "markdown",
   "id": "b7a7f43a",
   "metadata": {},
   "source": [
    "<img src=\"Exc4A.png\"> "
   ]
  },
  {
   "cell_type": "markdown",
   "id": "743c37e1",
   "metadata": {},
   "source": [
    "<img src=\"Exc4b'.png\">"
   ]
  },
  {
   "cell_type": "markdown",
   "id": "dcf0e893",
   "metadata": {},
   "source": [
    "## Exercici 5\n",
    "Realitza la següent operació sobre la base de dades acabada de crear: \n",
    "\n",
    "Has de crear un nou gènere anomenat \"Documental\" el qual tingui com a identificador el nombre 69."
   ]
  },
  {
   "cell_type": "markdown",
   "id": "09a6741e",
   "metadata": {},
   "source": [
    "<img src=\"Exc5.png\">"
   ]
  },
  {
   "cell_type": "markdown",
   "id": "bba11f6f",
   "metadata": {},
   "source": [
    "## Exercici 6\n",
    "Fes la següent operació sobre la base de dades acabada de crear:  \n",
    "\n",
    "Elimina la pel·lícula \"La Gran Familia Española\" de la base de dades."
   ]
  },
  {
   "cell_type": "markdown",
   "id": "af5d5dc2",
   "metadata": {},
   "source": [
    "<img src=\"Exc6.png\">"
   ]
  }
 ],
 "metadata": {
  "hide_input": false,
  "kernelspec": {
   "display_name": "Python 3 (ipykernel)",
   "language": "python",
   "name": "python3"
  },
  "language_info": {
   "codemirror_mode": {
    "name": "ipython",
    "version": 3
   },
   "file_extension": ".py",
   "mimetype": "text/x-python",
   "name": "python",
   "nbconvert_exporter": "python",
   "pygments_lexer": "ipython3",
   "version": "3.9.7"
  },
  "nbTranslate": {
   "displayLangs": [
    "*"
   ],
   "hotkey": "alt-t",
   "langInMainMenu": true,
   "sourceLang": "en",
   "targetLang": "fr",
   "useGoogleTranslate": true
  },
  "toc": {
   "base_numbering": 1,
   "nav_menu": {},
   "number_sections": true,
   "sideBar": true,
   "skip_h1_title": false,
   "title_cell": "Table of Contents",
   "title_sidebar": "Contents",
   "toc_cell": false,
   "toc_position": {},
   "toc_section_display": true,
   "toc_window_display": false
  },
  "varInspector": {
   "cols": {
    "lenName": 16,
    "lenType": 16,
    "lenVar": 40
   },
   "kernels_config": {
    "python": {
     "delete_cmd_postfix": "",
     "delete_cmd_prefix": "del ",
     "library": "var_list.py",
     "varRefreshCmd": "print(var_dic_list())"
    },
    "r": {
     "delete_cmd_postfix": ") ",
     "delete_cmd_prefix": "rm(",
     "library": "var_list.r",
     "varRefreshCmd": "cat(var_dic_list()) "
    }
   },
   "types_to_exclude": [
    "module",
    "function",
    "builtin_function_or_method",
    "instance",
    "_Feature"
   ],
   "window_display": false
  }
 },
 "nbformat": 4,
 "nbformat_minor": 5
}
